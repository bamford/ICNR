{
 "cells": [
  {
   "cell_type": "code",
   "execution_count": 1,
   "metadata": {},
   "outputs": [],
   "source": [
    "import tensorflow as tf\n",
    "from icnr import ICNR\n",
    "import matplotlib.pyplot as plt\n",
    "%matplotlib inline"
   ]
  },
  {
   "cell_type": "code",
   "execution_count": 2,
   "metadata": {},
   "outputs": [],
   "source": [
    "def renorm(a):\n",
    "    std = 1.0/(a.max() - a.min())\n",
    "    return (a - a.min())*std\n",
    "\n",
    "def prepare(w):\n",
    "    t = tf.transpose(w, perm = [2, 0, 1, 3] )\n",
    "    t = tf.nn.depth_to_space(t, 2)[0,:,:,:3]\n",
    "    return t"
   ]
  },
  {
   "cell_type": "code",
   "execution_count": 3,
   "metadata": {},
   "outputs": [],
   "source": [
    "initializer = tf.keras.initializers.GlorotNormal\n",
    "w = initializer()(shape=[5,5,32,64], dtype=tf.float32)\n",
    "w_icnr = ICNR(initializer(), scale=2)(shape=[5,5,32,64], dtype=tf.float32)"
   ]
  },
  {
   "cell_type": "code",
   "execution_count": 4,
   "metadata": {},
   "outputs": [
    {
     "data": {
      "image/png": "[encoded data removed]",
      "text/plain": [
       "<Figure size 432x288 with 2 Axes>"
      ]
     },
     "metadata": {
      "needs_background": "light"
     },
     "output_type": "display_data"
    }
   ],
   "source": [
    "w1 = renorm(prepare(w).numpy())\n",
    "w2 = renorm(prepare(w_icnr).numpy())\n",
    "plt.subplot(1,2,1)\n",
    "plt.imshow(w1, interpolation='nearest')\n",
    "plt.title(\"glorot init\")\n",
    "plt.subplot(1,2,2)\n",
    "plt.imshow(w2, interpolation='nearest')\n",
    "plt.title(\"ICNR glorot init\");"
   ]
  }
 ],
 "metadata": {
  "hide_input": false,
  "kernelspec": {
   "display_name": "Python 3",
   "language": "python",
   "name": "python3"
  },
  "language_info": {
   "codemirror_mode": {
    "name": "ipython",
    "version": 3
   },
   "file_extension": ".py",
   "mimetype": "text/x-python",
   "name": "python",
   "nbconvert_exporter": "python",
   "pygments_lexer": "ipython3",
   "version": "3.8.5"
  }
 },
 "nbformat": 4,
 "nbformat_minor": 1
}
